{
 "cells": [
  {
   "cell_type": "code",
   "execution_count": 11,
   "id": "16532aa6",
   "metadata": {},
   "outputs": [],
   "source": [
    "from datasets import load_dataset\n",
    "\n",
    "name_to_push_dataset_to = \"cubbk/rixvox-tokenised\"\n",
    "\n",
    "\n",
    "df = load_dataset(\"parquet\", data_files=\"../dataset/dev_metadata.parquet\")[\"train\"] # type: ignore\n",
    "\n",
    "df = df.remove_columns([\"dokid\", \"anforande_nummer\", \"observation_nr\", \"party\", \"gender\", \"debatedate\", \"electoral_district\", \"birth_year\", \"intressent_id\", \"speaker_from_id\", \"speaker_audio_meta\", \"start\", \"end\", \"duration\", \"bleu_score\", \"speaker_total_hours\"])\n",
    "\n"
   ]
  },
  {
   "cell_type": "code",
   "execution_count": 12,
   "id": "2a205ac0",
   "metadata": {},
   "outputs": [
    {
     "data": {
      "application/vnd.jupyter.widget-view+json": {
       "model_id": "49b0dab1ef534eafbd264021a348c629",
       "version_major": 2,
       "version_minor": 0
      },
      "text/plain": [
       "Map:   0%|          | 0/7933 [00:00<?, ? examples/s]"
      ]
     },
     "metadata": {},
     "output_type": "display_data"
    },
    {
     "data": {
      "application/vnd.jupyter.widget-view+json": {
       "model_id": "b3f6481fc19d46e9a41154736fc97069",
       "version_major": 2,
       "version_minor": 0
      },
      "text/plain": [
       "Map:   0%|          | 0/7933 [00:00<?, ? examples/s]"
      ]
     },
     "metadata": {},
     "output_type": "display_data"
    },
    {
     "data": {
      "text/plain": [
       "Dataset({\n",
       "    features: ['speaker', 'text', 'waveform', 'sampling_rate'],\n",
       "    num_rows: 7933\n",
       "})"
      ]
     },
     "execution_count": 12,
     "metadata": {},
     "output_type": "execute_result"
    }
   ],
   "source": [
    "import os\n",
    "import numpy as np\n",
    "import soundfile as sf\n",
    "from datasets import Dataset\n",
    "\n",
    "# Build path column\n",
    "ds = df.map(lambda ex: {\"audio_path\": os.path.join(\"../dataset/dev/\", ex[\"filename\"])}) # type: ignore\n",
    "\n",
    "def load_audio(example):\n",
    "    y, sr = sf.read(example[\"audio_path\"])\n",
    "    if y.ndim > 1:\n",
    "        y = np.mean(y, axis=1)  # mono\n",
    "    example[\"waveform\"] = y.astype(\"float32\")\n",
    "    example[\"sampling_rate\"] = sr\n",
    "    return example\n",
    "\n",
    "ds = ds.map(load_audio) # type: ignore\n",
    "ds = ds.remove_columns([\"filename\", \"audio_path\"])\n",
    "ds"
   ]
  },
  {
   "cell_type": "code",
   "execution_count": 14,
   "id": "d30c9474",
   "metadata": {},
   "outputs": [
    {
     "data": {
      "application/vnd.jupyter.widget-view+json": {
       "model_id": "16988d37ad92490d9e01e1d465785453",
       "version_major": 2,
       "version_minor": 0
      },
      "text/plain": [
       "Creating parquet from Arrow format:   0%|          | 0/8 [00:00<?, ?ba/s]"
      ]
     },
     "metadata": {},
     "output_type": "display_data"
    },
    {
     "data": {
      "text/plain": [
       "11932738560"
      ]
     },
     "execution_count": 14,
     "metadata": {},
     "output_type": "execute_result"
    }
   ],
   "source": [
    "ds.to_parquet(\"../dataset_parquet/dev.parquet\")"
   ]
  }
 ],
 "metadata": {
  "kernelspec": {
   "display_name": "audio-swedish",
   "language": "python",
   "name": "python3"
  },
  "language_info": {
   "codemirror_mode": {
    "name": "ipython",
    "version": 3
   },
   "file_extension": ".py",
   "mimetype": "text/x-python",
   "name": "python",
   "nbconvert_exporter": "python",
   "pygments_lexer": "ipython3",
   "version": "3.11.11"
  }
 },
 "nbformat": 4,
 "nbformat_minor": 5
}
