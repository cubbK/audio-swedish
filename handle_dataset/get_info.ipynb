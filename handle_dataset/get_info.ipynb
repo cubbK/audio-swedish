{
 "cells": [
  {
   "cell_type": "code",
   "execution_count": 4,
   "id": "9bc7690f",
   "metadata": {},
   "outputs": [
    {
     "data": {
      "text/plain": [
       "np.float64(51.77814444444445)"
      ]
     },
     "execution_count": 4,
     "metadata": {},
     "output_type": "execute_result"
    }
   ],
   "source": [
    "import pandas as pd\n",
    "\n",
    "df = pd.read_parquet(\"../dataset/dev_metadata.parquet\")\n",
    "df[\"duration\"].sum() / 60 / 60"
   ]
  }
 ],
 "metadata": {
  "kernelspec": {
   "display_name": "audio-swedish",
   "language": "python",
   "name": "python3"
  },
  "language_info": {
   "codemirror_mode": {
    "name": "ipython",
    "version": 3
   },
   "file_extension": ".py",
   "mimetype": "text/x-python",
   "name": "python",
   "nbconvert_exporter": "python",
   "pygments_lexer": "ipython3",
   "version": "3.11.11"
  }
 },
 "nbformat": 4,
 "nbformat_minor": 5
}
