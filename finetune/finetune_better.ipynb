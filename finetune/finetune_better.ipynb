{
 "cells": [
  {
   "cell_type": "code",
   "execution_count": null,
   "id": "54753194",
   "metadata": {},
   "outputs": [],
   "source": [
    "%pip install datasets transformers 'accelerate>=0.26.0'"
   ]
  },
  {
   "cell_type": "code",
   "execution_count": null,
   "id": "c0d0f7f1",
   "metadata": {},
   "outputs": [],
   "source": [
    "from datasets import load_dataset   \n",
    "from transformers import AutoModelForCausalLM, Trainer, TrainingArguments, AutoTokenizer\n",
    "import numpy as np\n",
    "import torch\n",
    "\n",
    "dsn = \"cubbk/rixvox-tokenised\"\n",
    "model_name = \"canopylabs/orpheus-tts-0.1-pretrained\"\n",
    "\n",
    "# Training Args\n",
    "epochs = 1\n",
    "batch_size = 1\n",
    "number_processes = 1\n",
    "pad_token = 128263\n",
    "save_steps = 5000\n",
    "learning_rate = 5.0e-5\n",
    "\n",
    "# Naming and paths\n",
    "save_folder = \"checkpoints\"\n",
    "project_name = \"tuning-orpheus\"\n",
    "run_name = \"5e5-0\"\n",
    "\n",
    "# Ensure bf16 only when supported\n",
    "bf16_supported = torch.cuda.is_available() and torch.cuda.is_bf16_supported()\n",
    "dtype = torch.bfloat16 if bf16_supported else torch.float32\n",
    "if not bf16_supported:\n",
    "    print(\"bfloat16 not supported on this device; using float32.\")\n",
    "\n",
    "# Load tokenizer & model\n",
    "tokenizer = AutoTokenizer.from_pretrained(model_name)\n",
    "if tokenizer.pad_token_id is None:\n",
    "    tokenizer.pad_token_id = pad_token\n",
    "\n",
    "model = AutoModelForCausalLM.from_pretrained(\n",
    "    model_name,\n",
    "    torch_dtype=dtype,\n",
    ")\n",
    "\n",
    "raw_ds = load_dataset(dsn, split=\"train\").take(100)\n",
    "split = raw_ds.train_test_split(test_size=0.05, seed=42)\n",
    "train_ds, eval_ds = split[\"train\"], split[\"test\"]\n",
    "\n",
    "training_args = TrainingArguments(\n",
    "    overwrite_output_dir=True,\n",
    "    num_train_epochs=epochs,\n",
    "    per_device_train_batch_size=batch_size,\n",
    "    logging_steps=1,\n",
    "    bf16=bf16_supported,\n",
    "    output_dir=f\"./{save_folder}\",\n",
    "    # report_to=\"wandb\",\n",
    "    save_steps=save_steps,\n",
    "    remove_unused_columns=True,\n",
    "    learning_rate=learning_rate,\n",
    ")\n",
    "\n",
    "trainer = Trainer(\n",
    "    model=model,\n",
    "    args=training_args,\n",
    "    train_dataset=train_ds, # type: ignore\n",
    "    eval_dataset=eval_ds, # type: ignore\n",
    ")\n",
    "\n",
    "trainer.train()\n"
   ]
  },
  {
   "cell_type": "code",
   "execution_count": null,
   "id": "252f34f9",
   "metadata": {},
   "outputs": [],
   "source": [
    "import math\n",
    "eval_results = trainer.evaluate()\n",
    "\n",
    "perplexity = math.exp(eval_results[\"eval_loss\"])\n",
    "print(\"Eval loss:\", eval_results[\"eval_loss\"])\n",
    "print(\"Perplexity:\", perplexity)"
   ]
  },
  {
   "cell_type": "code",
   "execution_count": null,
   "id": "90230cc0",
   "metadata": {},
   "outputs": [],
   "source": [
    "# Save final model & tokenizer\n",
    "save_path = \"./final-model\"\n",
    "model.save_pretrained(save_path)\n",
    "tokenizer.save_pretrained(save_path)"
   ]
  },
  {
   "cell_type": "code",
   "execution_count": null,
   "id": "011d4a4a",
   "metadata": {},
   "outputs": [],
   "source": [
    "reloaded = AutoModelForCausalLM.from_pretrained(save_path, torch_dtype=dtype)\n",
    "_ = reloaded.generate(**tokenizer(\"Test:\", return_tensors=\"pt\"), max_new_tokens=5)\n",
    "print(\"Reload OK.\")"
   ]
  },
  {
   "cell_type": "code",
   "execution_count": null,
   "id": "0a200389",
   "metadata": {},
   "outputs": [],
   "source": [
    "prompt = \"Hej, hur mår du idag?\"\n",
    "inputs = tokenizer(prompt, return_tensors=\"pt\").to(model.device)\n",
    "model.eval()\n",
    "with torch.no_grad():\n",
    "    out = model.generate(\n",
    "        **inputs,\n",
    "        max_new_tokens=50,\n",
    "        temperature=0.8,\n",
    "        top_p=0.95,\n",
    "        do_sample=True,\n",
    "        pad_token_id=tokenizer.pad_token_id,\n",
    "        eos_token_id=tokenizer.eos_token_id,\n",
    "    )"
   ]
  },
  {
   "cell_type": "code",
   "execution_count": null,
   "id": "613a80d8",
   "metadata": {},
   "outputs": [],
   "source": [
    "%pip install huggingface_hub\n",
    "# huggingface-cli login\n",
    "reloaded.push_to_hub(\"cubbk/orpheus-swedish\")\n",
    "tokenizer.push_to_hub(\"cubbk/orpheus-swedish\")"
   ]
  }
 ],
 "metadata": {
  "kernelspec": {
   "display_name": "Python 3 (ipykernel)",
   "language": "python",
   "name": "python3"
  },
  "language_info": {
   "codemirror_mode": {
    "name": "ipython",
    "version": 3
   },
   "file_extension": ".py",
   "mimetype": "text/x-python",
   "name": "python",
   "nbconvert_exporter": "python",
   "pygments_lexer": "ipython3",
   "version": "3.11.11"
  }
 },
 "nbformat": 4,
 "nbformat_minor": 5
}
