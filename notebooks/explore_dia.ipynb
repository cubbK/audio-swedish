{
 "cells": [
  {
   "cell_type": "code",
   "execution_count": null,
   "id": "36627be9",
   "metadata": {},
   "outputs": [],
   "source": [
    "from dia.model import Dia\n",
    "\n",
    "\n",
    "model = Dia.from_pretrained(\"nari-labs/Dia-1.6B-0626\", compute_dtype=\"float16\")\n",
    "\n",
    "text = \"[S1] Hey\"\n",
    "\n",
    "# It is important to set the `use_torch_compile` argument to `False` when using Dia on MacOS.\n",
    "# This is because the `torch.compile` function is not supported on MacOS.\n",
    "output = model.generate(text, use_torch_compile=False, verbose=True)\n",
    "\n",
    "model.save_audio(\"simple.mp3\", output)"
   ]
  }
 ],
 "metadata": {
  "language_info": {
   "name": "python"
  }
 },
 "nbformat": 4,
 "nbformat_minor": 5
}
